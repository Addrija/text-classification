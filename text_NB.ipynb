{
 "cells": [
  {
   "cell_type": "code",
   "execution_count": 1,
   "metadata": {
    "collapsed": true
   },
   "outputs": [],
   "source": [
    "from sklearn.naive_bayes import MultinomialNB\n",
    "import numpy as np\n",
    "import os\n",
    "from nltk.corpus import stopwords\n",
    "import operator\n",
    "from sklearn.naive_bayes import MultinomialNB\n",
    "from sklearn.metrics import confusion_matrix"
   ]
  },
  {
   "cell_type": "code",
   "execution_count": 2,
   "metadata": {
    "collapsed": true
   },
   "outputs": [],
   "source": [
    "stop_words = set(stopwords.words(\"english\"))\n",
    "l = ['Xref', 'os','ch','AX','would','Go','prove','msdos','like','article','think','sfu', 'LK','use', 'ms', 'References' ,'alt', 'Newsgroups',\n",
    "     'ca', 'sFvE', 'Aq', 'murdoch', 'acc','jose','ie','umich','myers','louis','mf','al','fnal','xterm','document','ba',\n",
    "     'anywhere','tx','yet','tu','su','ps','wa','many','hours','get','usl','DY', 'tm', 'dsinc', 'tw', 'UT', 'trw',\n",
    "     'anymore', 'decent','Mb','MP','MO', 'MG', 'latter','ss'\n",
    "     '','dt','wayne','uug','fsu', 'cantaloupe','ksu','sunday','statement', 'srv', 'APR', 'VM', 'MCGILL', 'CA','Date', 'Fri', 'Apr', 'GMT','Sat','Mon','Tue','Wed',\n",
    "     'Thu','least','ufl','vt', 'hyess','[pp','As','[', 'In','APR','net','uunet','HST','But','certainly','Ben','lines',\n",
    "     'cs', 'cmu', 'Nyx','edu', 'comp', 'windows','Reply', 'To', 'misc','Lines','From', 'slc', 'cim', 'cdc', \n",
    "     'com', 'Steve', 'Chesney', 'x','I','Subject', 'G', 'qxF', 'fekVH','Sender', 'news','along','decwrl','mu',\n",
    "     'fc', 'hp', 'news', 'daemon','Nntp', 'Posting', 'Host', 'hpfcmrc', 'fc', 'hp','Message','aa','figure','not',\n",
    "     'ID','ux','nz', 'sL', 'fc', 'hp','Organization', 'Hewlett','b', 'Packard', 'Fort','MR','dr','ti','md'\n",
    "     'Collins', 'CO','Newsreader','MA', 'Bz', 'raistlin','nt', 'udev', 'TIN', '[version', 'PL','Path',\n",
    "     'crabapple', 'bb', 'andrew','cc', 'caen','Woah','fwi', 'uva', 'nl','u', 'k', 'v', 'w', 'b', 'j', 'i',\n",
    "     't', 'z', 'g', 'c', 'y', 'o', 'h', 'r', 's', 'f', 'q', 'l', 'd', 'a', 'n', 'p', 'e', 'm', 'x',\n",
    "     'news', 'sei', 'cis', 'ohio', 'state', 'zaphod','Could', 'sdd', 'hp','Hi','oh','di','ok','summary'\n",
    "     'col', 'hp', 'fc', 'hp', 'rodc', 'Cerkoney','CHECK', 'MENAHEM', 'BEGIN', 'DAIRIES','psuvm',\n",
    "    'joe','joseph','fr','none','uh',]\n",
    "l = [l[i].lower() for i in range(len(l))]\n",
    "stop_words.update(l)"
   ]
  },
  {
   "cell_type": "code",
   "execution_count": 3,
   "metadata": {
    "collapsed": true
   },
   "outputs": [],
   "source": [
    "spec_chars= set([ '1' ,'2' ,'3' ,'4','5','6','7','8','9','0','\\n','\\t','<','>','!','@',\n",
    "             \"#\",\"$\",\"%\",\"^\",\"&\",\"*\",'~',\"(\",\")\",\"?\",\"/\",\"//\",\":\",\"+\",\";\", ']',\"`\"\n",
    "             '=' , \".\" , \",\" , \"-\" , \"'\" , '\"' , \n",
    "             \"_\",\"|\", \"\\\\\" ,\"]\" ])"
   ]
  },
  {
   "cell_type": "code",
   "execution_count": 4,
   "metadata": {
    "collapsed": true
   },
   "outputs": [],
   "source": [
    "def removeSpecialChars(l):\n",
    "    for i in spec_chars:\n",
    "        l=l.replace(i,\" \")\n",
    "    return l"
   ]
  },
  {
   "cell_type": "code",
   "execution_count": 5,
   "metadata": {
    "collapsed": true
   },
   "outputs": [],
   "source": [
    "def getFilteredSentences(f):\n",
    "    lines = f.readlines()\n",
    "    sentences = []\n",
    "    for l in lines:\n",
    "        l1 = removeSpecialChars(l)\n",
    "        words = l1.split(' ')\n",
    "        sentences.append([w for w in words if w.lower() not in stop_words and w.isalpha()])\n",
    "        if [] in sentences:\n",
    "            sentences.remove([])\n",
    "    return sentences"
   ]
  },
  {
   "cell_type": "code",
   "execution_count": 6,
   "metadata": {
    "collapsed": true
   },
   "outputs": [],
   "source": [
    "def updateVocab(sentences , vocab):\n",
    "    for s in sentences:\n",
    "        for word in s:\n",
    "            if word in vocab:\n",
    "                vocab[word]=vocab[word]+1\n",
    "            else:\n",
    "                vocab[word]=1\n",
    "    return"
   ]
  },
  {
   "cell_type": "code",
   "execution_count": 7,
   "metadata": {
    "collapsed": true
   },
   "outputs": [],
   "source": [
    "def build_vocab(dictionary , k):\n",
    "    vocab = {}\n",
    "    path = \"/home/addrija/ML/naive bayes/20_newsgroups\"\n",
    "    for directory in dictionary:\n",
    "        all_files = dictionary[directory]\n",
    "        for f in all_files:\n",
    "            f_path = path +'/' + directory + '/' +f\n",
    "            f_opened = open(f_path,'r',encoding ='ISO-8859-1')\n",
    "            sentences = getFilteredSentences(f_opened)\n",
    "            updateVocab(sentences , vocab)\n",
    "    v_sorted = sorted(vocab.items() , key = operator.itemgetter(1) , reverse=True)  \n",
    "    vocab = [v_sorted[i][0] for i in range(k)]    \n",
    "    return vocab"
   ]
  },
  {
   "cell_type": "code",
   "execution_count": 9,
   "metadata": {
    "collapsed": true
   },
   "outputs": [],
   "source": [
    "def organiseData(dictionary , vocab , path ):\n",
    "    v_size = len(vocab)\n",
    "    y_values = list(dictionary.keys())\n",
    "    y = []\n",
    "    x = []\n",
    "    for directory in dictionary:\n",
    "        all_files = dictionary[directory]\n",
    "        for f in all_files:\n",
    "            f_path = path + '/' + directory + '/' + f\n",
    "            f_opened = open(f_path,'r',encoding ='ISO-8859-1')\n",
    "            sentences = getFilteredSentences(f_opened)\n",
    "            curr_list = np.zeros(v_size , dtype = int)\n",
    "            for s in sentences:\n",
    "                for w in s:\n",
    "                    if w in vocab:\n",
    "                        i = vocab.index(w)\n",
    "                        curr_list[i] = curr_list[i]+1\n",
    "            x.append(curr_list)\n",
    "            y.append(directory)\n",
    "    x = np.array(x)\n",
    "    y = np.array(y)\n",
    "    return x,y"
   ]
  },
  {
   "cell_type": "code",
   "execution_count": 10,
   "metadata": {
    "collapsed": true
   },
   "outputs": [],
   "source": [
    "def getDataFromDir(path):\n",
    "    d = []\n",
    "    dictionary = {}\n",
    "    f =[]\n",
    "    for (root,dirs,files) in os.walk(path , topdown = True):\n",
    "        d.append(dirs)\n",
    "        break \n",
    "    d = np.reshape(d,(len(d[0],)))\n",
    "    for directory in d:\n",
    "        curr_path = path+'/'+directory \n",
    "        files_in_curr_dir = os.listdir(curr_path)\n",
    "        dictionary[directory]=files_in_curr_dir\n",
    "    return dictionary"
   ]
  },
  {
   "cell_type": "code",
   "execution_count": 12,
   "metadata": {},
   "outputs": [],
   "source": [
    "path = '/home/addrija/ML/naive bayes/20_newsgroups'\n",
    "dictionary_train = getDataFromDir(path)\n",
    "k = 2500\n",
    "vocab = build_vocab(dictionary_train ,k)\n",
    "x_train , y_train = organiseData(dictionary_train , vocab , path)\n",
    "\n",
    "path = '/home/addrija/ML/naive bayes/mini_newsgroups'\n",
    "dictionary_test = getDataFromDir(path)\n",
    "x_test , y_test = organiseData(dictionary_test , vocab , path)\n",
    "\n",
    "clf = MultinomialNB()\n",
    "clf.fit(x_train,y_train)\n",
    "y_pred = clf.predict(x_test)"
   ]
  },
  {
   "cell_type": "code",
   "execution_count": 13,
   "metadata": {},
   "outputs": [
    {
     "name": "stdout",
     "output_type": "stream",
     "text": [
      "                          precision    recall  f1-score   support\n",
      "\n",
      "             alt.atheism       0.78      0.84      0.81       100\n",
      "           comp.graphics       0.81      0.88      0.84       100\n",
      " comp.os.ms-windows.misc       0.94      0.59      0.72       100\n",
      "comp.sys.ibm.pc.hardware       0.80      0.90      0.85       100\n",
      "   comp.sys.mac.hardware       0.85      0.93      0.89       100\n",
      "          comp.windows.x       0.88      0.85      0.86       100\n",
      "            misc.forsale       0.88      0.98      0.92       100\n",
      "               rec.autos       0.94      0.95      0.95       100\n",
      "         rec.motorcycles       0.95      0.96      0.96       100\n",
      "      rec.sport.baseball       0.97      0.97      0.97       100\n",
      "        rec.sport.hockey       0.99      0.94      0.96       100\n",
      "               sci.crypt       0.97      0.96      0.96       100\n",
      "         sci.electronics       0.89      0.94      0.91       100\n",
      "                 sci.med       0.96      0.94      0.95       100\n",
      "               sci.space       0.97      0.96      0.96       100\n",
      "  soc.religion.christian       0.98      0.99      0.99       100\n",
      "      talk.politics.guns       0.83      0.93      0.88       100\n",
      "   talk.politics.mideast       0.95      0.94      0.94       100\n",
      "      talk.politics.misc       0.84      0.72      0.77       100\n",
      "      talk.religion.misc       0.70      0.64      0.67       100\n",
      "\n",
      "                accuracy                           0.89      2000\n",
      "               macro avg       0.89      0.89      0.89      2000\n",
      "            weighted avg       0.89      0.89      0.89      2000\n",
      "\n"
     ]
    }
   ],
   "source": [
    "from sklearn.metrics import classification_report\n",
    "print(classification_report(y_test , y_pred))"
   ]
  }
 ],
 "metadata": {
  "kernelspec": {
   "display_name": "Python 3",
   "language": "python",
   "name": "python3"
  },
  "language_info": {
   "codemirror_mode": {
    "name": "ipython",
    "version": 3
   },
   "file_extension": ".py",
   "mimetype": "text/x-python",
   "name": "python",
   "nbconvert_exporter": "python",
   "pygments_lexer": "ipython3",
   "version": "3.6.3"
  }
 },
 "nbformat": 4,
 "nbformat_minor": 2
}
